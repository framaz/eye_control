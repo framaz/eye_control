{
 "cells": [
  {
   "cell_type": "code",
   "execution_count": null,
   "metadata": {},
   "outputs": [],
   "source": [
    "from imutils import face_utils\n",
    "import numpy as np\n",
    "import argparse\n",
    "import imutils\n",
    "import dlib\n",
    "import glob\n",
    "import os\n",
    "from PIL import Image\n",
    "from matplotlib import pyplot as plt\n",
    "import cv2\n",
    "import imgaug.augmenters as iaa\n",
    "import scipy.io\n",
    "import seaborn as sns"
   ]
  },
  {
   "cell_type": "code",
   "execution_count": null,
   "metadata": {},
   "outputs": [],
   "source": [
    "data_dir = \"MPIIGaze/Data/Normalized\"\n",
    "list_ds = tf.data.Dataset.list_files(str(data_dir+'/*/*'))\n",
    "data = []\n",
    "labels = []\n",
    "for strs in list_ds:\n",
    "    mat = scipy.io.loadmat(strs.numpy())\n",
    "    for picnum in range(len(mat['data'][0][0][0][0][0][1])):\n",
    "        for i in range(2):\n",
    "            data.append(mat['data'][0][0][i][0][0][1][picnum].reshape((36,60,1)) / 255) \n",
    "            labels.append(mat['data'][0][0][i][0][0][0][picnum])"
   ]
  }
 ],
 "metadata": {
  "kernelspec": {
   "display_name": "Python 3",
   "language": "python",
   "name": "python3"
  },
  "language_info": {
   "codemirror_mode": {
    "name": "ipython",
    "version": 3
   },
   "file_extension": ".py",
   "mimetype": "text/x-python",
   "name": "python",
   "nbconvert_exporter": "python",
   "pygments_lexer": "ipython3",
   "version": "3.7.4"
  }
 },
 "nbformat": 4,
 "nbformat_minor": 2
}
