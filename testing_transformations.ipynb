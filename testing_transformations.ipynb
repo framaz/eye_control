{
 "cells": [
  {
   "cell_type": "code",
   "execution_count": 1,
   "metadata": {},
   "outputs": [],
   "source": [
    "import numpy as np\n",
    "import matplotlib.pyplot as plt\n",
    "import cv2\n",
    "import scipy.io\n",
    "import PIL.Image as Image\n",
    "from math import sqrt\n",
    "import PNP_solver\n"
   ]
  },
  {
   "cell_type": "code",
   "execution_count": 2,
   "metadata": {},
   "outputs": [],
   "source": [
    "solver = PNP_solver.PoseEstimator()"
   ]
  },
  {
   "cell_type": "code",
   "execution_count": 2,
   "metadata": {},
   "outputs": [
    {
     "name": "stdout",
     "output_type": "stream",
     "text": [
      "[[-4.50967681e+01 -4.83773045e-01  2.39702984e+00]\n",
      " [-2.13128582e+01  4.83773045e-01 -2.39702984e+00]\n",
      " [ 2.13128582e+01  4.83773045e-01 -2.39702984e+00]\n",
      " [ 4.50967681e+01 -4.83773045e-01  2.39702984e+00]\n",
      " [-2.62995769e+01  6.85950353e+01 -9.86076132e-32]\n",
      " [ 2.62995769e+01  6.85950353e+01 -9.86076132e-32]]\n"
     ]
    }
   ],
   "source": [
    "mat = \"552 325 565 316 580 316 593 322 580 328 565 329 674 321 687 314 704 314 718 322 704 328 688 327 854 270 -74.224602 58.624695 -17.821962 -0.109297 0.191268 -0.001372 4.607621 -21.929678 530.719849 -27.992239 -21.538828 537.017151 37.207481 -22.320528 524.422546\"\n",
    "mat = mat.split(\" \")\n",
    "mat = np.array(list(map(lambda kek: float(kek), mat)))\n",
    "faceModel = scipy.io.loadmat(\"MPIIGaze/6 points-based face model.mat\")\n",
    "faceModel = np.array(faceModel['model'])\n",
    "faceModel = faceModel.transpose()\n",
    "cameraCalib = scipy.io.loadmat('MPIIGaze/Data/Original/p00/Calibration/Camera.mat')\n",
    "img = Image.open(\"MPIIGaze/Data/Original/p00/day01/0001.jpg\")\n",
    "print(faceModel)"
   ]
  },
  {
   "cell_type": "code",
   "execution_count": 4,
   "metadata": {},
   "outputs": [
    {
     "data": {
      "text/plain": [
       "{'__header__': b'MATLAB 5.0 MAT-file, Platform: GLNXA64, Created on: Fri Oct 14 14:11:03 2016',\n",
       " '__version__': '1.0',\n",
       " '__globals__': [],\n",
       " 'cameraMatrix': array([[994.73532636,   0.        , 624.66344095],\n",
       "        [  0.        , 998.16646784, 364.08742557],\n",
       "        [  0.        ,   0.        ,   1.        ]]),\n",
       " 'distCoeffs': array([[-0.16321888,  0.66783406, -0.00121854, -0.00303158, -1.02159927]]),\n",
       " 'retval': array([[0.48423145]]),\n",
       " 'rvecs': array([[-3.65982097e-01, -4.44470363e-01, -8.07540181e-02],\n",
       "        [-3.94010818e-02,  5.56557963e-01,  1.61485301e+00],\n",
       "        [-6.54604372e-01,  3.28707994e-01,  6.11190401e-02],\n",
       "        [-5.62157528e-01,  3.74032131e-01, -2.02997565e-03],\n",
       "        [-4.59252548e-01, -6.24683579e-01, -9.61582975e-02],\n",
       "        [ 2.39905048e-01,  5.03739931e-01, -2.60053297e-01],\n",
       "        [-4.73112062e-01,  8.53846532e-01,  1.36534861e-01],\n",
       "        [-8.37490358e-01,  1.39534037e-02, -5.01882209e-02],\n",
       "        [ 2.89496167e-01,  6.23870509e-01, -2.16827454e-01],\n",
       "        [ 2.77861529e-01,  6.15144787e-01, -2.01031864e-01],\n",
       "        [-3.01070256e-01, -2.45171309e-01, -4.23579533e-02],\n",
       "        [-7.49340740e-01,  7.61645380e-01,  2.85805534e-01],\n",
       "        [-6.97779897e-01,  7.14811773e-01,  2.64139963e-01],\n",
       "        [-7.34801801e-01,  7.52161779e-01,  2.79823150e-01],\n",
       "        [-2.27139151e-01, -2.98721022e-02,  6.24763949e-04],\n",
       "        [-6.56008185e-01,  6.02674021e-01,  2.08811446e-01],\n",
       "        [-2.03121181e-01, -7.48899545e-01, -1.07329583e-01],\n",
       "        [ 2.81896319e-01,  6.14822913e-01, -2.16959548e-01],\n",
       "        [ 2.34192965e-01, -1.25144817e-01, -2.59902368e-02],\n",
       "        [-6.14004806e-01,  6.84506453e-03, -4.41967552e-02],\n",
       "        [-7.89254657e-01, -9.08897449e-02, -8.63436589e-02],\n",
       "        [ 3.80132628e-01,  1.75894699e-02,  1.23456064e-02],\n",
       "        [-7.85635064e-01, -9.45154487e-02, -8.66233899e-02],\n",
       "        [-4.61095929e-01, -6.17634152e-01, -1.03597914e-01],\n",
       "        [-5.59149180e-01,  4.56152815e-01,  1.56892967e-02],\n",
       "        [ 3.56716250e-01, -5.61858314e-01,  2.47943817e-01],\n",
       "        [-6.57834768e-01,  6.01210464e-01,  2.08243417e-01],\n",
       "        [-8.75720864e-01,  1.38506969e-02, -3.53000030e-02],\n",
       "        [-4.78718708e-02, -1.87624101e-02, -5.27067617e-02],\n",
       "        [ 2.52563132e-01,  6.00042480e-01, -2.05682437e-01],\n",
       "        [-6.61515073e-01, -2.19472155e-01, -1.60406148e-01],\n",
       "        [ 3.25459755e-01, -2.48438682e-02,  2.10828538e-03],\n",
       "        [-4.50737231e-01, -6.24350365e-01, -7.82842144e-02],\n",
       "        [-6.70974501e-01, -2.45344909e-01, -1.44211182e-01],\n",
       "        [-4.48140133e-01,  5.22427308e-01,  8.96720938e-02],\n",
       "        [ 2.78560555e-01,  6.16879137e-01, -2.03885087e-01],\n",
       "        [-4.55480716e-01,  7.45665108e-02, -4.32743613e-03],\n",
       "        [-7.70464258e-01, -9.06942617e-02, -8.68634224e-02],\n",
       "        [-6.69394133e-01, -5.23466961e-01, -2.62423890e-01],\n",
       "        [-3.42077375e-02,  5.69171062e-01,  1.59315557e+00],\n",
       "        [-4.67076327e-01,  7.61289307e-01,  1.96510878e-01],\n",
       "        [ 3.64829598e-01, -9.07366601e-02, -2.48900056e-02],\n",
       "        [-6.39124410e-01,  9.99920713e-01,  2.76583629e-02],\n",
       "        [-8.57602339e-01,  4.04724813e-03, -5.99245744e-02],\n",
       "        [-4.70315792e-01,  5.65986342e-02, -1.06804699e-02],\n",
       "        [-4.68017812e-01,  5.52019214e-02, -9.38946379e-03],\n",
       "        [ 2.80773687e-01,  6.14235721e-01, -2.04473671e-01],\n",
       "        [-7.62192986e-01,  7.59457137e-01,  2.91354507e-01],\n",
       "        [-8.32053988e-01,  8.93538391e-03, -5.21725830e-02],\n",
       "        [-4.60647895e-01, -6.23748442e-01, -9.54675917e-02],\n",
       "        [ 3.76747679e-01,  1.56789798e-02,  1.34202056e-02],\n",
       "        [-3.65903352e-01, -5.20688595e-01, -5.88086593e-02],\n",
       "        [ 3.44935042e-01, -1.53785747e-03,  6.06022900e-03],\n",
       "        [-5.18954356e-02,  5.66254614e-01,  1.61386720e+00],\n",
       "        [-4.93184597e-01,  8.06426159e-01,  2.02914080e-01],\n",
       "        [-7.87647085e-01, -8.51013842e-02, -8.68958119e-02],\n",
       "        [-2.14475062e-02, -1.83283877e-02, -1.76224751e-02],\n",
       "        [-4.48860632e-01,  8.34816585e-01,  1.38692495e-01],\n",
       "        [-6.44673628e-01, -1.84713938e-01, -1.01485448e-01],\n",
       "        [-6.73758610e-01, -5.15610515e-01, -2.71145777e-01],\n",
       "        [-8.33670581e-01,  8.72263586e-03, -5.52670834e-02],\n",
       "        [-7.63399918e-01,  7.60484255e-01,  2.93074056e-01],\n",
       "        [-4.25741120e-01, -7.01145316e-01, -1.57293496e-01],\n",
       "        [-1.90617099e-01, -7.12457713e-01, -1.02544298e-01],\n",
       "        [-4.08674871e-01, -6.41291355e-02, -6.67350960e-02],\n",
       "        [ 3.46328414e-01, -6.51078547e-01,  2.44780417e-01],\n",
       "        [ 3.48979645e-01, -2.38959567e-03,  7.98143027e-03],\n",
       "        [-4.37757867e-01, -7.05530237e-01, -1.61343193e-01],\n",
       "        [-2.65144844e-02, -1.49035298e-02, -4.98423868e-02],\n",
       "        [-2.36184598e-01, -3.37732475e-02, -5.49923252e-03],\n",
       "        [-4.54268076e-01,  8.37608843e-01,  1.33410229e-01],\n",
       "        [-2.01600101e-01, -7.47504059e-01, -1.06630676e-01],\n",
       "        [-2.52595637e-01, -4.02845835e-01, -5.28933798e-02],\n",
       "        [-5.65491925e-01,  3.80492913e-01, -4.35871825e-03],\n",
       "        [-3.02405506e-02,  6.42846310e-02,  3.15259335e-02],\n",
       "        [-7.80255992e-01,  7.54498698e-01,  3.02280637e-01],\n",
       "        [-4.42014325e-01, -7.03716450e-01, -1.59914010e-01],\n",
       "        [-8.37990679e-01,  9.57928983e-03, -5.47495502e-02],\n",
       "        [-4.68347837e-01,  7.63961950e-01,  1.99208290e-01],\n",
       "        [-6.30572306e-01,  9.93037055e-01,  2.73442178e-02],\n",
       "        [ 2.76714451e-01,  6.15203508e-01, -2.03230966e-01],\n",
       "        [-8.37832862e-01,  9.69689203e-03, -4.79197477e-02],\n",
       "        [ 3.27170932e-01, -5.84124568e-01,  2.30549532e-01],\n",
       "        [-6.57123409e-01, -2.98151164e-01, -1.84754133e-01],\n",
       "        [-6.32536738e-01, -1.73644456e-01, -1.56953796e-01],\n",
       "        [-4.42036917e-01, -5.69923862e-01, -1.08841347e-01],\n",
       "        [-7.86773895e-01, -8.54456644e-02, -1.03372464e-01],\n",
       "        [-2.20060040e-01, -2.10561402e-02, -1.00130114e-04],\n",
       "        [-7.46770710e-01, -8.50272693e-02, -5.80206348e-02],\n",
       "        [ 2.47657944e-01,  2.08257919e-02, -2.28064212e-02],\n",
       "        [-6.59848398e-01,  1.03583866e+00,  1.92267466e-02],\n",
       "        [ 1.92795144e-01,  5.58580841e-01, -1.92068149e-01],\n",
       "        [-6.78805695e-01, -5.08771880e-01, -2.75884157e-01],\n",
       "        [-8.36921986e-01,  1.28041085e-02, -4.79721615e-02],\n",
       "        [ 3.64237639e-01,  6.47866395e-03,  1.26372424e-02],\n",
       "        [-4.94649759e-01, -6.18312340e-01, -3.33321576e-03],\n",
       "        [-5.59573697e-01,  4.56415766e-01,  9.57825858e-03],\n",
       "        [-4.64065558e-01,  8.47620121e-01,  1.33783360e-01],\n",
       "        [-7.89653187e-01, -9.04019802e-02, -8.87602523e-02],\n",
       "        [-4.71640823e-01,  7.30120333e-01,  1.81162530e-01]]),\n",
       " 'tvecs': array([[-1.07550659e+02, -4.40442634e+01,  7.05822047e+02],\n",
       "        [-1.40753580e+02, -1.26000234e+02,  6.60775200e+02],\n",
       "        [ 3.13567931e+01,  4.07154898e+01,  1.04825561e+03],\n",
       "        [-8.86959014e+01,  3.60403524e+00,  1.00428390e+03],\n",
       "        [-1.81817185e+02, -8.81198663e+00,  8.74943099e+02],\n",
       "        [ 1.63967172e+02, -1.82609984e+02,  1.00054206e+03],\n",
       "        [ 1.20063803e+02, -1.31021045e+01,  9.15978215e+02],\n",
       "        [-1.20033424e+02, -1.20623096e+01,  7.32497059e+02],\n",
       "        [ 1.77343500e+02, -3.73827167e+01,  9.36715312e+02],\n",
       "        [ 1.80652632e+02, -5.08781410e+01,  9.35047512e+02],\n",
       "        [-1.46070814e+02, -7.86102114e+01,  6.78945758e+02],\n",
       "        [ 9.27667520e+01, -9.40730178e-01,  9.63714053e+02],\n",
       "        [ 9.47185151e+01, -3.43983005e+00,  9.58374275e+02],\n",
       "        [ 9.70561383e+01, -3.40683393e+00,  9.59889716e+02],\n",
       "        [-1.22537544e+02, -3.54258781e+01,  6.94257976e+02],\n",
       "        [ 2.35385377e+02,  7.02832173e+01,  1.03029505e+03],\n",
       "        [-1.54137546e+02, -9.62065044e+01,  5.35276332e+02],\n",
       "        [ 1.79954420e+02, -4.34531100e+01,  9.40718273e+02],\n",
       "        [-1.40057837e+02, -7.27979755e+01,  6.28636097e+02],\n",
       "        [-1.04788924e+02, -2.91100229e+01,  7.34006613e+02],\n",
       "        [-3.10896612e+02,  6.17410804e+01,  1.07860410e+03],\n",
       "        [-1.18217315e+02, -7.00085491e+01,  6.03713429e+02],\n",
       "        [-3.10369039e+02,  6.23705319e+01,  1.07838648e+03],\n",
       "        [-1.83660403e+02, -8.52484923e+00,  8.74843702e+02],\n",
       "        [-8.24031091e+01,  8.01219319e+00,  1.02302755e+03],\n",
       "        [-2.75819935e+02, -2.06337554e+02,  8.05957802e+02],\n",
       "        [ 2.34584749e+02,  6.93536866e+01,  1.02972337e+03],\n",
       "        [-1.31828163e+02, -3.38213937e+00,  7.43636709e+02],\n",
       "        [-1.25187747e+02, -1.32477319e+01,  8.87880661e+02],\n",
       "        [ 1.87860117e+02, -5.81672183e+01,  9.55691415e+02],\n",
       "        [-2.80461523e+02,  6.38395133e+01,  1.00172119e+03],\n",
       "        [-1.00198271e+02, -7.08539408e+01,  6.08963090e+02],\n",
       "        [-1.77645358e+02, -1.48139040e+01,  8.72579478e+02],\n",
       "        [-2.73774419e+02,  5.87417439e+01,  1.00710130e+03],\n",
       "        [ 3.97155706e+00, -1.54779844e+01,  9.44982228e+02],\n",
       "        [ 1.78388415e+02, -4.93278065e+01,  9.37582454e+02],\n",
       "        [-6.43791431e+01,  5.25565354e+01,  9.72929325e+02],\n",
       "        [-3.01129472e+02,  5.69755376e+01,  1.07819430e+03],\n",
       "        [-2.11047001e+02, -3.76553658e+00,  7.54750000e+02],\n",
       "        [-1.25413885e+02, -1.29779201e+02,  6.63751341e+02],\n",
       "        [-2.91499020e+01, -4.99645747e+01,  9.45509102e+02],\n",
       "        [-1.36333659e+02, -5.46021237e+01,  6.41529999e+02],\n",
       "        [-2.38641354e+01,  4.41756996e+00,  1.06063582e+03],\n",
       "        [-1.31443537e+02, -9.82839142e+00,  7.26899933e+02],\n",
       "        [-7.53904097e+01,  4.31183490e+01,  9.71910100e+02],\n",
       "        [-7.43928534e+01,  4.32741292e+01,  9.71563826e+02],\n",
       "        [ 1.77251724e+02, -4.64934618e+01,  9.38547942e+02],\n",
       "        [ 9.20227820e+01,  7.39463710e-01,  9.65359276e+02],\n",
       "        [-1.15990336e+02, -1.54893857e+01,  7.33101756e+02],\n",
       "        [-1.82322522e+02, -8.93857709e+00,  8.75424380e+02],\n",
       "        [-1.19556004e+02, -7.10269369e+01,  5.99219885e+02],\n",
       "        [-4.19003144e+01, -7.25440595e+01,  7.27022356e+02],\n",
       "        [-1.04706948e+02, -7.11262047e+01,  6.04705052e+02],\n",
       "        [-1.44945958e+02, -1.27143813e+02,  6.62110743e+02],\n",
       "        [-9.30569380e+00, -5.70873505e+01,  9.24827256e+02],\n",
       "        [-3.11070218e+02,  6.08001155e+01,  1.08053810e+03],\n",
       "        [-1.06163050e+02, -1.96473935e+01,  8.54781517e+02],\n",
       "        [ 1.16826737e+02, -1.68332521e+01,  8.98387798e+02],\n",
       "        [-1.85879186e+02,  2.35801970e+01,  8.77259322e+02],\n",
       "        [-2.14613220e+02, -5.14088404e-01,  7.58913962e+02],\n",
       "        [-1.17006315e+02, -1.53942040e+01,  7.32104099e+02],\n",
       "        [ 9.19873751e+01,  1.29126312e+00,  9.67580012e+02],\n",
       "        [-1.12014325e+02, -3.65000682e+01,  7.11354715e+02],\n",
       "        [-1.56886611e+02, -9.25006006e+01,  5.41444508e+02],\n",
       "        [ 9.91355751e-02, -4.15159416e+01,  8.37489807e+02],\n",
       "        [-2.75526663e+02, -2.11709621e+02,  7.48266609e+02],\n",
       "        [-1.05398265e+02, -7.05688864e+01,  6.04505726e+02],\n",
       "        [-1.15161945e+02, -3.77415963e+01,  7.15692458e+02],\n",
       "        [-1.13574612e+02, -1.51060533e+01,  8.65123676e+02],\n",
       "        [-1.20018859e+02, -3.79176987e+01,  6.94237352e+02],\n",
       "        [ 1.20688163e+02, -1.34794264e+01,  9.10349166e+02],\n",
       "        [-1.53209163e+02, -9.60923075e+01,  5.34646397e+02],\n",
       "        [-1.34857242e+02, -8.28865407e+01,  6.63513748e+02],\n",
       "        [-8.61620898e+01,  4.22749026e+00,  1.00451837e+03],\n",
       "        [-5.91879716e+01, -1.95557408e+00,  9.67079085e+02],\n",
       "        [ 1.01226009e+02,  6.06928507e-01,  9.69695357e+02],\n",
       "        [-1.12867372e+02, -3.75859913e+01,  7.16590811e+02],\n",
       "        [-1.18341789e+02, -1.50731562e+01,  7.31778911e+02],\n",
       "        [-3.64010017e+01, -4.96682956e+01,  9.42051750e+02],\n",
       "        [-1.48405044e+01,  3.85027690e+00,  1.05776793e+03],\n",
       "        [ 1.79237984e+02, -5.02555706e+01,  9.36074964e+02],\n",
       "        [-1.24664956e+02, -1.11387432e+01,  7.28111908e+02],\n",
       "        [-2.74385777e+02, -2.10378620e+02,  7.89722010e+02],\n",
       "        [-2.11459293e+02,  3.21363905e+01,  8.39224646e+02],\n",
       "        [-2.70459621e+02,  6.90808281e+01,  1.00197040e+03],\n",
       "        [-1.98202598e+02,  2.24043918e+00,  8.84846745e+02],\n",
       "        [-3.18665903e+02,  6.59727250e+01,  1.07179488e+03],\n",
       "        [-1.31842089e+02, -3.23891296e+01,  6.94926146e+02],\n",
       "        [-3.21963427e+02,  4.82473849e+01,  1.05477911e+03],\n",
       "        [-1.11947551e+02, -7.20878450e+01,  7.78297832e+02],\n",
       "        [-4.20578768e+01, -1.10296510e+00,  1.05779893e+03],\n",
       "        [ 1.75341733e+02, -3.53386620e+01,  9.58669024e+02],\n",
       "        [-2.19151458e+02,  2.41579250e+00,  7.63070497e+02],\n",
       "        [-1.22613027e+02, -1.09357597e+01,  7.30293929e+02],\n",
       "        [-1.14452360e+02, -7.03826707e+01,  6.00386150e+02],\n",
       "        [-1.73786057e+02, -4.72204636e+01,  8.86464648e+02],\n",
       "        [-8.33955822e+01,  8.87571331e+00,  1.02387586e+03],\n",
       "        [ 1.28131022e+02, -1.18274980e+01,  9.14119191e+02],\n",
       "        [-3.11188650e+02,  6.30002417e+01,  1.07926358e+03],\n",
       "        [-2.49348850e+01, -5.16984963e+01,  9.42872450e+02]])}"
      ]
     },
     "execution_count": 4,
     "metadata": {},
     "output_type": "execute_result"
    }
   ],
   "source": [
    "headpose_hr = np.array(mat[29:32])\n",
    "headpose_ht = np.array(mat[32:35])\n",
    "hR, _ = cv2.Rodrigues(headpose_hr)\n",
    "matrix = np.zeros((3, 4))\n",
    "matrix[:, :3] = hR\n",
    "matrix[:, 3] = headpose_ht\n",
    "Fc = []\n",
    "for i in range(6):\n",
    "    Fc.append(np.matmul(matrix, [*(faceModel[i]), 1]))\n",
    "Fc = np.array(Fc)\n",
    "Fc[1]-Fc[2], solver.model_points_68[39] - solver.model_points_68[42]\n",
    "cameraCalib"
   ]
  },
  {
   "cell_type": "code",
   "execution_count": 5,
   "metadata": {},
   "outputs": [
    {
     "data": {
      "text/plain": [
       "<matplotlib.collections.PathCollection at 0x7f6623dfd550>"
      ]
     },
     "execution_count": 5,
     "metadata": {},
     "output_type": "execute_result"
    },
    {
     "data": {
      "image/png": "[encoded data removed]",
      "text/plain": [
       "<Figure size 432x288 with 1 Axes>"
      ]
     },
     "metadata": {
      "needs_background": "light"
     },
     "output_type": "display_data"
    }
   ],
   "source": [
    "plt.imshow(img)\n",
    "kek, _ = cv2.projectPoints(faceModel, headpose_hr, headpose_ht, cameraCalib['cameraMatrix'], cameraCalib['distCoeffs'])\n",
    "kek = kek.reshape((-1, 2)).transpose()\n",
    "plt.scatter(*kek)"
   ]
  },
  {
   "cell_type": "code",
   "execution_count": 6,
   "metadata": {},
   "outputs": [
    {
     "data": {
      "text/plain": [
       "(array([-27.9632215 , -58.81032089, 537.59814734]),\n",
       " array([ 36.17759228, -59.87380489, 526.62344136]))"
      ]
     },
     "execution_count": 6,
     "metadata": {},
     "output_type": "execute_result"
    }
   ],
   "source": [
    "right_eye_center = 0.5*(Fc[0]+Fc[1])\n",
    "left_eye_center = 0.5*(Fc[2]+Fc[3])\n",
    "right_eye_center, left_eye_center"
   ]
  },
  {
   "cell_type": "code",
   "execution_count": 7,
   "metadata": {},
   "outputs": [],
   "source": [
    "gaze_target = np.array(mat[26:29])"
   ]
  },
  {
   "cell_type": "code",
   "execution_count": 8,
   "metadata": {},
   "outputs": [],
   "source": [
    "eye_image_width  = 36\n",
    "eye_image_height = 60"
   ]
  },
  {
   "cell_type": "code",
   "execution_count": 9,
   "metadata": {},
   "outputs": [],
   "source": [
    "def norm(target_3D):\n",
    "    return np.sqrt(np.matmul(target_3D, target_3D))\n",
    "def normalizeImg(inputImg, target_3D, hR, gc, roiSize, cameraMatrix, focal_new=960, distance_new=600):\n",
    "    distance = np.sqrt(np.matmul(target_3D, target_3D))\n",
    "    #np.seterr(divide='ignore', invalid='ignore')\n",
    "    z_scale = distance_new/distance\n",
    "    cam_new = np.array([[focal_new, 0, roiSize[1]/2], [0.0, focal_new, roiSize[0]/2], [0, 0, 1.0]])\n",
    "    scaleMat = [[1.0, 0.0, 0.0], [0.0, 1.0, 0.0], [0.0, 0.0, z_scale]]\n",
    "    hRx = hR[:,0]\n",
    "    forward = (target_3D/distance)\n",
    "    down = np.cross(forward, hRx)\n",
    "    down = down / norm(down)\n",
    "    right = np.cross(down, forward)\n",
    "    right = right / norm(right)\n",
    "    rotMat = np.array([right, down, forward])\n",
    "    warpMat = np.matmul(np.matmul(cam_new, scaleMat), np.matmul(rotMat, np.linalg.inv(cameraMatrix) ))\n",
    "    roiSize = np.array(roiSize, dtype=np.float32)\n",
    "    warpMat = np.array(warpMat, dtype=np.float32)\n",
    "    inputImg = np.array(inputImg) \n",
    "    img_warped = cv2.warpPerspective(inputImg, warpMat, (60, 36))\n",
    "    cnvMat = scaleMat @ rotMat\n",
    "    hRnew = cnvMat @ hR\n",
    "    hrnew, _ = cv2.Rodrigues(hRnew)\n",
    "    vect = gc - target_3D\n",
    "    vect = vect/norm(vect)\n",
    "    htnew = cnvMat @ target_3D\n",
    "    gcnew = cnvMat @ gc\n",
    "    gvnew = cnvMat @ vect\n",
    "    gvnew = gvnew / norm(gvnew)\n",
    "    print(vect)\n",
    "    inv_cnv_mat = np.linalg.inv(cnvMat)\n",
    "    vect = inv_cnv_mat @ gvnew\n",
    "    print(vect/norm(vect))\n",
    "    print(gvnew)\n",
    "    return img_warped, hrnew, gvnew\n",
    "def denormalize(gvnew, target_3D, hR, distance_new=600):\n",
    "    distance = np.sqrt(np.matmul(target_3D, target_3D))\n",
    "    #np.seterr(divide='ignore', invalid='ignore')Z\n",
    "    z_scale = distance_new/distance\n",
    "    scaleMat = [[1.0, 0.0, 0.0], [0.0, 1.0, 0.0], [0.0, 0.0, z_scale]]\n",
    "    hRx = hR[:,0]\n",
    "    forward = (target_3D/distance)\n",
    "    down = np.cross(forward, hRx)\n",
    "    down = down / norm(down)\n",
    "    right = np.cross(down, forward)\n",
    "    right = right / norm(right)\n",
    "    rotMat = np.array([right, down, forward])\n",
    "    cnvMat = scaleMat @ rotMat\n",
    "    inv_cnv_mat = np.linalg.inv(cnvMat)\n",
    "    vect = inv_cnv_mat @ gvnew\n",
    "    print(vect/norm(vect))\n",
    "    return vect/norm(vect)"
   ]
  },
  {
   "cell_type": "code",
   "execution_count": 28,
   "metadata": {},
   "outputs": [
    {
     "name": "stdout",
     "output_type": "stream",
     "text": [
      "[-0.08122001  0.20617788 -0.97513794]\n",
      "[-0.08122001  0.20617788 -0.97513794]\n",
      "[-0.12264459  0.08546617 -0.98876379]\n",
      "[-0.08122001  0.20617788 -0.97513794]\n"
     ]
    },
    {
     "data": {
      "text/plain": [
       "array([-0.08122001,  0.20617788, -0.97513794])"
      ]
     },
     "execution_count": 28,
     "metadata": {},
     "output_type": "execute_result"
    },
    {
     "data": {
      "image/png": "[encoded data removed]",
      "text/plain": [
       "<Figure size 432x288 with 1 Axes>"
      ]
     },
     "metadata": {
      "needs_background": "light"
     },
     "output_type": "display_data"
    }
   ],
   "source": [
    "eye_img, headpose, gaze = normalizeImg(img, right_eye_center, hR, gaze_target, [eye_image_width, eye_image_height], cameraCalib['cameraMatrix']);\n",
    "plt.imshow(img)\n",
    "denormalize(gaze, right_eye_center, hR)"
   ]
  },
  {
   "cell_type": "markdown",
   "metadata": {},
   "source": [
    "[-0.08219037  0.14251205 -0.9863747 ]<br>\n",
    "[-0.08219037  0.14251205 -0.9863747 ]<br>\n",
    "[-0.12202546  0.0901101  -0.98842802 ]<br>\n",
    "[-0.08219037  0.14251205 -0.9863747 ]\n"
   ]
  },
  {
   "cell_type": "code",
   "execution_count": 32,
   "metadata": {},
   "outputs": [
    {
     "data": {
      "text/plain": [
       "array([-0.12202543,  0.09011014, -0.98842802])"
      ]
     },
     "execution_count": 32,
     "metadata": {},
     "output_type": "execute_result"
    },
    {
     "data": {
      "image/png": "[encoded data removed]",
      "text/plain": [
       "<Figure size 432x288 with 1 Axes>"
      ]
     },
     "metadata": {
      "needs_background": "light"
     },
     "output_type": "display_data"
    }
   ],
   "source": [
    "kke = scipy.io.loadmat(\"MPIIGaze/Data/Normalized/p00/day01.mat\")\n",
    "img = kke['data'][0][0][0][0][0][1][0]\n",
    "plt.imshow(img)\n",
    "kke['data'][0][0][0][0][0][0][0]\n",
    "\n"
   ]
  },
  {
   "cell_type": "code",
   "execution_count": 12,
   "metadata": {},
   "outputs": [
    {
     "data": {
      "text/plain": [
       "array([-0.12264459,  0.08546617, -0.98876379])"
      ]
     },
     "execution_count": 12,
     "metadata": {},
     "output_type": "execute_result"
    }
   ],
   "source": [
    "gaze"
   ]
  },
  {
   "cell_type": "code",
   "execution_count": null,
   "metadata": {},
   "outputs": [],
   "source": []
  }
 ],
 "metadata": {
  "kernelspec": {
   "display_name": "Python 3",
   "language": "python",
   "name": "python3"
  },
  "language_info": {
   "codemirror_mode": {
    "name": "ipython",
    "version": 3
   },
   "file_extension": ".py",
   "mimetype": "text/x-python",
   "name": "python",
   "nbconvert_exporter": "python",
   "pygments_lexer": "ipython3",
   "version": "3.7.6"
  }
 },
 "nbformat": 4,
 "nbformat_minor": 2
}
